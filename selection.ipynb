{
  "nbformat": 4,
  "nbformat_minor": 0,
  "metadata": {
    "colab": {
      "provenance": [],
      "authorship_tag": "ABX9TyNIamgDJony0SjcsDeU1Ml6",
      "include_colab_link": true
    },
    "kernelspec": {
      "name": "python3",
      "display_name": "Python 3"
    },
    "language_info": {
      "name": "python"
    }
  },
  "cells": [
    {
      "cell_type": "markdown",
      "metadata": {
        "id": "view-in-github",
        "colab_type": "text"
      },
      "source": [
        "<a href=\"https://colab.research.google.com/github/its-anuskapalit/python/blob/main/selection.ipynb\" target=\"_parent\"><img src=\"https://colab.research.google.com/assets/colab-badge.svg\" alt=\"Open In Colab\"/></a>"
      ]
    },
    {
      "cell_type": "code",
      "execution_count": 1,
      "metadata": {
        "colab": {
          "base_uri": "https://localhost:8080/"
        },
        "id": "XRpVznQOGe1k",
        "outputId": "bbc36cb6-f28b-43aa-bdff-e9df0fe6cff0"
      },
      "outputs": [
        {
          "output_type": "stream",
          "name": "stdout",
          "text": [
            "Selected Features: [3]\n",
            "Accuracy: 1.0\n"
          ]
        }
      ],
      "source": [
        "import numpy as np\n",
        "from sklearn.datasets import load_iris\n",
        "from sklearn.model_selection import train_test_split\n",
        "from sklearn.ensemble import RandomForestClassifier\n",
        "from sklearn.metrics import accuracy_score\n",
        "\n",
        "# Load the Iris dataset\n",
        "iris = load_iris()\n",
        "X, y = iris.data, iris.target\n",
        "\n",
        "# Split the data into training and testing sets\n",
        "X_train, X_test, y_train, y_test = train_test_split(X, y, test_size=0.2, random_state=42)\n",
        "\n",
        "# Define the objective function to evaluate the fitness of solutions\n",
        "def objective_function(features):\n",
        "    selected_features = [i for i in range(len(features)) if features[i] == 1]\n",
        "    if len(selected_features) == 0:\n",
        "        return 0  # Penalize solutions with no features selected\n",
        "    else:\n",
        "        clf = RandomForestClassifier(random_state=42)\n",
        "        clf.fit(X_train[:, selected_features], y_train)\n",
        "        y_pred = clf.predict(X_test[:, selected_features])\n",
        "        return accuracy_score(y_test, y_pred)\n",
        "\n",
        "# Initialize parameters\n",
        "population_size = 20\n",
        "dimension = X.shape[1]  # Number of features\n",
        "max_iter = 50\n",
        "pa = 0.25  # Probability of a cuckoo egg being discovered\n",
        "\n",
        "# Initialize the population\n",
        "population = np.random.randint(2, size=(population_size, dimension))\n",
        "\n",
        "# Perform Cuckoo Search Algorithm\n",
        "for iter in range(max_iter):\n",
        "    # Generate new solutions by performing cuckoo breeding\n",
        "    new_population = population.copy()\n",
        "    for i in range(population_size):\n",
        "        # Choose a random solution (cuckoo host)\n",
        "        j = np.random.randint(population_size)\n",
        "        while j == i:\n",
        "            j = np.random.randint(population_size)\n",
        "\n",
        "        # Generate a new solution (cuckoo egg) by performing random walk\n",
        "        step_size = np.random.uniform(low=-1, high=1, size=dimension)\n",
        "        new_solution = population[i] + step_size\n",
        "\n",
        "        # Perform simple bound check\n",
        "        new_solution = np.clip(new_solution, 0, 1)\n",
        "\n",
        "        # Evaluate the fitness of the new solution\n",
        "        if np.random.rand() > pa:\n",
        "            if objective_function(new_solution) > objective_function(population[i]):\n",
        "                population[i] = new_solution\n",
        "\n",
        "    # Select the best solutions to form the next generation\n",
        "    sorted_indices = np.argsort([objective_function(sol) for sol in population])[::-1]\n",
        "    population = population[sorted_indices[:population_size]]\n",
        "\n",
        "# Select the best solution\n",
        "best_solution = population[0]\n",
        "selected_features = [i for i in range(len(best_solution)) if best_solution[i] == 1]\n",
        "\n",
        "print(\"Selected Features:\", selected_features)\n",
        "print(\"Accuracy:\", objective_function(best_solution))\n"
      ]
    },
    {
      "cell_type": "code",
      "source": [
        "#  Greedy Forward Selection (GFS) algorithm\n",
        "import numpy as np\n",
        "from sklearn.datasets import load_iris\n",
        "from sklearn.model_selection import train_test_split\n",
        "from sklearn.ensemble import RandomForestClassifier\n",
        "from sklearn.metrics import accuracy_score\n",
        "\n",
        "iris = load_iris()\n",
        "X, y = iris.data, iris.target\n",
        "\n",
        "X_train, X_test, y_train, y_test = train_test_split(X, y, test_size=0.2, random_state=42)\n",
        "\n",
        "def objective_function(features):\n",
        "    clf = RandomForestClassifier(random_state=42)\n",
        "    clf.fit(X_train[:, features], y_train)\n",
        "    y_pred = clf.predict(X_test[:, features])\n",
        "    return accuracy_score(y_test, y_pred)\n",
        "\n",
        "selected_features = []\n",
        "remaining_features = set(range(X.shape[1]))  # Set of remaining features\n",
        "\n",
        "while remaining_features:\n",
        "    best_feature = None\n",
        "    best_accuracy = 0\n",
        "\n",
        "    for feature in remaining_features:\n",
        "        candidate_features = selected_features + [feature]\n",
        "        accuracy = objective_function(candidate_features)\n",
        "\n",
        "        if accuracy > best_accuracy:\n",
        "            best_accuracy = accuracy\n",
        "            best_feature = feature\n",
        "\n",
        "\n",
        "    selected_features.append(best_feature)\n",
        "    remaining_features.remove(best_feature)\n",
        "\n",
        "print(\"Selected Features:\", selected_features)\n",
        "print(\"Accuracy:\", best_accuracy)\n"
      ],
      "metadata": {
        "colab": {
          "base_uri": "https://localhost:8080/"
        },
        "id": "PuwqI4h_HsZ_",
        "outputId": "481b617a-3fa7-4d1c-eda9-35eda72e95be"
      },
      "execution_count": 2,
      "outputs": [
        {
          "output_type": "stream",
          "name": "stdout",
          "text": [
            "Selected Features: [3, 2, 0, 1]\n",
            "Accuracy: 1.0\n"
          ]
        }
      ]
    },
    {
      "cell_type": "code",
      "source": [
        " # Recursive Feature Elimination (RFE)\n",
        "from sklearn.datasets import load_iris\n",
        "from sklearn.model_selection import train_test_split\n",
        "from sklearn.ensemble import RandomForestClassifier\n",
        "from sklearn.feature_selection import RFE\n",
        "from sklearn.metrics import accuracy_score\n",
        "\n",
        "# Load the Iris dataset\n",
        "iris = load_iris()\n",
        "X, y = iris.data, iris.target\n",
        "\n",
        "# Split the data into training and testing sets\n",
        "X_train, X_test, y_train, y_test = train_test_split(X, y, test_size=0.2, random_state=42)\n",
        "\n",
        "# Initialize a RandomForestClassifier\n",
        "clf = RandomForestClassifier(random_state=42)\n",
        "\n",
        "# Initialize RFE and specify the number of features to select\n",
        "num_features_to_select = 2\n",
        "rfe = RFE(estimator=clf, n_features_to_select=num_features_to_select)\n",
        "\n",
        "# Fit RFE\n",
        "rfe.fit(X_train, y_train)\n",
        "\n",
        "# Get selected features\n",
        "selected_features = [i for i, mask in enumerate(rfe.support_) if mask]\n",
        "\n",
        "# Train the classifier using only selected features\n",
        "clf.fit(X_train[:, selected_features], y_train)\n",
        "\n",
        "# Make predictions on the test set\n",
        "y_pred = clf.predict(X_test[:, selected_features])\n",
        "\n",
        "# Calculate accuracy\n",
        "accuracy = accuracy_score(y_test, y_pred)\n",
        "\n",
        "print(\"Selected Features:\", selected_features)\n",
        "print(\"Accuracy:\", accuracy)\n"
      ],
      "metadata": {
        "colab": {
          "base_uri": "https://localhost:8080/"
        },
        "id": "P1LYAk_pICir",
        "outputId": "adf9585d-d1b1-43fd-983a-5eaefbfcc3c2"
      },
      "execution_count": 3,
      "outputs": [
        {
          "output_type": "stream",
          "name": "stdout",
          "text": [
            "Selected Features: [2, 3]\n",
            "Accuracy: 1.0\n"
          ]
        }
      ]
    }
  ]
}